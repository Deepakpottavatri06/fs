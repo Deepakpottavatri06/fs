{
 "cells": [
  {
   "cell_type": "markdown",
   "id": "1b6ba91a-9c29-44f6-91f6-60b07b25046d",
   "metadata": {},
   "source": [
    "### **Problem Statement:**\n",
    "Your task is to build a multi-layer **autoencoder** using **PyTorch** to compress the images into a lower-dimensional representation and then reconstruct them. The model should use the **Adam optimizer** and **Mean Squared Error (MSE) loss**. The goal is to minimize the reconstruction loss and generate an accurate representation of the input data.\n",
    "\n",
    "#### **Steps to Complete the Exercise:**\n",
    "1. **Build the Multi-Layer Autoencoder**:  \n",
    "   - **Encoder**: Multiple dense layers reducing dimensionality.\n",
    "   - **Decoder**: Symmetric layers reconstructing the image.\n",
    "2. **Train the Model**: Use **Mean Squared Error (MSE) loss** and **Adam optimizer** to train the autoencoder.\n"
   ]
  },
  {
   "cell_type": "code",
   "execution_count": 1,
   "id": "4364b87c-b24c-4923-918a-b1899c77019e",
   "metadata": {
    "deletable": false,
    "editable": false,
    "nbgrader": {
     "cell_type": "code",
     "checksum": "0a2c9366a51098917f11806e5e2a7220",
     "grade": false,
     "grade_id": "cell-8b92532665d916d3",
     "locked": true,
     "schema_version": 3,
     "solution": false,
     "task": false
    },
    "tags": []
   },
   "outputs": [],
   "source": [
    "import torch\n",
    "import torch.nn as nn\n",
    "import torch.optim as optim\n",
    "import matplotlib.pyplot as plt"
   ]
  },
  {
   "cell_type": "raw",
   "id": "eaa3a2f8-361e-4748-b03d-d4268f42461a",
   "metadata": {},
   "source": [
    "the ANSI diagram for the multi-layer autoencoder\n",
    "    Input Layer (28x28 pixels)  \n",
    "          |\n",
    "      [Flatten Layer] (784)\n",
    "          |\n",
    "      [Dense Layer 512] - Linear, ReLU\n",
    "          |\n",
    "      [Dense Layer 256] - Linear, ReLU\n",
    "          |\n",
    "      [Dense Layer 128] - Linear, ReLU\n",
    "          |\n",
    "      [Dense Layer 64]  <-- Latent Representation (Bottleneck)\n",
    "          |\n",
    "      [Dense Layer 128] - Linear, ReLU\n",
    "          |\n",
    "      [Dense Layer 256] - Linear, ReLU\n",
    "          |\n",
    "      [Dense Layer 512] - Linear, ReLU\n",
    "          |\n",
    "      [Dense Layer 784] - Sigmoid (Reconstructs 28x28 image)\n",
    "          |\n",
    "      [Unflatten Layer] (Reshape to 28x28)\n",
    "          |\n",
    "      Output (Reconstructed Image)\n"
   ]
  },
  {
   "cell_type": "code",
   "execution_count": 2,
   "id": "8017c3ea-62f9-4f84-b370-236717077fa7",
   "metadata": {
    "deletable": false,
    "nbgrader": {
     "cell_type": "code",
     "checksum": "9708898f824ae9511d2bce81b58bb308",
     "grade": false,
     "grade_id": "cell-27ea4a84abb9b035",
     "locked": false,
     "schema_version": 3,
     "solution": true,
     "task": false
    },
    "tags": []
   },
   "outputs": [],
   "source": [
    "### Implement the Autoencoder ###\n",
    "\n",
    "# Define Autoencoder class\n",
    "class Autoencoder(nn.Module):\n",
    "    def __init__(self):\n",
    "        super(Autoencoder, self).__init__()\n",
    "        self.encoder = nn.Sequential(\n",
    "            nn.Flatten(),\n",
    "            nn.Linear(28*28,512),\n",
    "            nn.ReLU(),\n",
    "            nn.Linear(512,256),\n",
    "            nn.ReLU(),\n",
    "            nn.Linear(256,128),\n",
    "            nn.ReLU(),\n",
    "            nn.Linear(128,64)\n",
    "        )\n",
    "        self.decoder = nn.Sequential(\n",
    "            nn.Linear(64,128),\n",
    "            nn.ReLU(),\n",
    "            nn.Linear(128,256),\n",
    "            nn.ReLU(),\n",
    "            nn.Linear(256,512),\n",
    "            nn.ReLU(),\n",
    "            nn.Linear(512,28*28),\n",
    "            nn.Sigmoid(),\n",
    "            nn.Unflatten(1,(28,28))\n",
    "        )\n",
    "    def forward(self, x):\n",
    "        encoded = self.encoder(x)\n",
    "        decoded = self.decoder(encoded)\n",
    "        return decoded\n"
   ]
  },
  {
   "cell_type": "code",
   "execution_count": 3,
   "id": "0b3029a5-1da0-4a01-80ac-9a6f95da6e19",
   "metadata": {
    "deletable": false,
    "nbgrader": {
     "cell_type": "code",
     "checksum": "c6ff52101c132bbf243a0949248ca845",
     "grade": false,
     "grade_id": "cell-5ba5e09c936b9c03",
     "locked": false,
     "schema_version": 3,
     "solution": true,
     "task": false
    },
    "tags": []
   },
   "outputs": [],
   "source": [
    "# Define loss function and optimizer\n",
    "student_model = Autoencoder()\n",
    "criterion = nn.MSELoss()\n",
    "optimizer = optim.Adam(student_model.parameters(),lr=0.001)\n"
   ]
  },
  {
   "cell_type": "code",
   "execution_count": 4,
   "id": "d54184ac-864d-4547-8d75-ea098bc1ad2c",
   "metadata": {
    "deletable": false,
    "editable": false,
    "nbgrader": {
     "cell_type": "code",
     "checksum": "d06a4902307c33f03911ae9157150fd9",
     "grade": false,
     "grade_id": "cell-5c5326677bac71d2",
     "locked": true,
     "schema_version": 3,
     "solution": false,
     "task": false
    },
    "tags": []
   },
   "outputs": [
    {
     "name": "stdout",
     "output_type": "stream",
     "text": [
      "Running Autoencoder Training and Evaluation...\n",
      "Epoch [1/2], Loss: 1.2488\n",
      "Epoch [2/2], Loss: 1.2458\n"
     ]
    },
    {
     "name": "stderr",
     "output_type": "stream",
     "text": [
      "[NVSHARE][INFO]: Successfully initialized nvshare GPU\n",
      "[NVSHARE][INFO]: Client ID = 50574dc944a95f53\n"
     ]
    },
    {
     "data": {
      "text/plain": [
       "(1.2457599639892578,\n",
       " tensor([[[0.5024, 0.5036, 0.5044,  ..., 0.4844, 0.4872, 0.4952],\n",
       "          [0.5013, 0.4977, 0.5057,  ..., 0.4909, 0.4949, 0.4936],\n",
       "          [0.5103, 0.5014, 0.5007,  ..., 0.5020, 0.5056, 0.4967],\n",
       "          ...,\n",
       "          [0.4892, 0.4905, 0.5032,  ..., 0.5141, 0.4913, 0.4990],\n",
       "          [0.4831, 0.5058, 0.4954,  ..., 0.5090, 0.4901, 0.4872],\n",
       "          [0.4847, 0.4958, 0.4999,  ..., 0.4859, 0.4910, 0.4990]],\n",
       " \n",
       "         [[0.5022, 0.5030, 0.5044,  ..., 0.4851, 0.4872, 0.4956],\n",
       "          [0.5009, 0.4966, 0.5052,  ..., 0.4911, 0.4953, 0.4932],\n",
       "          [0.5096, 0.5006, 0.5009,  ..., 0.5016, 0.5056, 0.4970],\n",
       "          ...,\n",
       "          [0.4889, 0.4908, 0.5036,  ..., 0.5143, 0.4909, 0.4991],\n",
       "          [0.4836, 0.5055, 0.4964,  ..., 0.5090, 0.4898, 0.4868],\n",
       "          [0.4839, 0.4956, 0.5007,  ..., 0.4866, 0.4912, 0.4990]],\n",
       " \n",
       "         [[0.5025, 0.5019, 0.5038,  ..., 0.4852, 0.4859, 0.4956],\n",
       "          [0.5004, 0.4965, 0.5061,  ..., 0.4914, 0.4952, 0.4923],\n",
       "          [0.5098, 0.5007, 0.5004,  ..., 0.5012, 0.5058, 0.4978],\n",
       "          ...,\n",
       "          [0.4892, 0.4906, 0.5041,  ..., 0.5144, 0.4904, 0.4988],\n",
       "          [0.4836, 0.5058, 0.4967,  ..., 0.5095, 0.4904, 0.4869],\n",
       "          [0.4832, 0.4953, 0.5002,  ..., 0.4864, 0.4911, 0.4996]],\n",
       " \n",
       "         ...,\n",
       " \n",
       "         [[0.5020, 0.5030, 0.5039,  ..., 0.4850, 0.4871, 0.4963],\n",
       "          [0.5005, 0.4962, 0.5057,  ..., 0.4915, 0.4955, 0.4932],\n",
       "          [0.5100, 0.5007, 0.5007,  ..., 0.5013, 0.5049, 0.4971],\n",
       "          ...,\n",
       "          [0.4888, 0.4906, 0.5036,  ..., 0.5146, 0.4913, 0.4985],\n",
       "          [0.4834, 0.5061, 0.4955,  ..., 0.5097, 0.4903, 0.4864],\n",
       "          [0.4842, 0.4954, 0.5012,  ..., 0.4866, 0.4916, 0.4991]],\n",
       " \n",
       "         [[0.5016, 0.5032, 0.5045,  ..., 0.4845, 0.4868, 0.4961],\n",
       "          [0.4996, 0.4959, 0.5057,  ..., 0.4906, 0.4950, 0.4929],\n",
       "          [0.5093, 0.4998, 0.5007,  ..., 0.5011, 0.5050, 0.4982],\n",
       "          ...,\n",
       "          [0.4883, 0.4912, 0.5036,  ..., 0.5145, 0.4916, 0.4982],\n",
       "          [0.4834, 0.5066, 0.4960,  ..., 0.5097, 0.4895, 0.4864],\n",
       "          [0.4838, 0.4954, 0.5008,  ..., 0.4864, 0.4921, 0.4988]],\n",
       " \n",
       "         [[0.5022, 0.5026, 0.5040,  ..., 0.4858, 0.4875, 0.4964],\n",
       "          [0.5006, 0.4959, 0.5053,  ..., 0.4921, 0.4958, 0.4926],\n",
       "          [0.5101, 0.5006, 0.5004,  ..., 0.5011, 0.5053, 0.4969],\n",
       "          ...,\n",
       "          [0.4887, 0.4909, 0.5040,  ..., 0.5147, 0.4905, 0.4986],\n",
       "          [0.4835, 0.5059, 0.4960,  ..., 0.5095, 0.4908, 0.4865],\n",
       "          [0.4831, 0.4952, 0.5012,  ..., 0.4875, 0.4921, 0.4999]]],\n",
       "        grad_fn=<ViewBackward0>))"
      ]
     },
     "execution_count": 4,
     "metadata": {},
     "output_type": "execute_result"
    }
   ],
   "source": [
    "# Autoencoder Training Function\n",
    "def check_autoencoder(student_model, optimizer, criterion):\n",
    "    print(\"Running Autoencoder Training and Evaluation...\")\n",
    "    \n",
    "    #device = torch.device(\"cuda\" if torch.cuda.is_available() else \"cpu\")\n",
    "    #student_model.to(device)\n",
    "    student_model.eval()  # Set to evaluation mode\n",
    "    device = next(student_model.parameters()).device  # Get model device\n",
    "    \n",
    "    dummy_data = torch.randn(16, 1, 28, 28).to(device)  # Small batch size to reduce memory\n",
    "    for epoch in range(2):\n",
    "        optimizer.zero_grad()\n",
    "        dummy_data_flat = dummy_data.view(dummy_data.size(0), -1)  # Flatten input\n",
    "        outputs = student_model(dummy_data_flat)\n",
    "        loss = criterion(outputs.view(outputs.size(0), -1), dummy_data_flat)  # Flatten outputs\n",
    "        loss.backward()\n",
    "        optimizer.step()\n",
    "        print(f\"Epoch [{epoch+1}/2], Loss: {loss.item():.4f}\")\n",
    "    \n",
    "    return loss.item(), outputs\n",
    "check_autoencoder(student_model, optimizer, criterion)"
   ]
  },
  {
   "cell_type": "code",
   "execution_count": null,
   "id": "c8f450db-8ebf-49c1-a624-b52709327fdf",
   "metadata": {
    "deletable": false,
    "editable": false,
    "nbgrader": {
     "cell_type": "code",
     "checksum": "833b7a3018efa0a86652a248c928c9e2",
     "grade": true,
     "grade_id": "cell-2150996e56ab3df8",
     "locked": true,
     "points": 25,
     "schema_version": 3,
     "solution": false,
     "task": false
    },
    "tags": []
   },
   "outputs": [],
   "source": []
  },
  {
   "cell_type": "code",
   "execution_count": null,
   "id": "2166ca3b-999c-4f2b-b6b0-4d9f685886c2",
   "metadata": {
    "deletable": false,
    "editable": false,
    "nbgrader": {
     "cell_type": "code",
     "checksum": "af940922327b480130c3cf8bf066bec0",
     "grade": true,
     "grade_id": "cell-447e5430b9547293",
     "locked": true,
     "points": 25,
     "schema_version": 3,
     "solution": false,
     "task": false
    },
    "tags": []
   },
   "outputs": [],
   "source": []
  },
  {
   "cell_type": "code",
   "execution_count": null,
   "id": "833b24d9-07dd-4628-b9a8-a3ab587b9fdb",
   "metadata": {
    "deletable": false,
    "editable": false,
    "nbgrader": {
     "cell_type": "code",
     "checksum": "9e0706b2fa722f6901684abbf9459c69",
     "grade": true,
     "grade_id": "cell-5fc9e3f66803b52c",
     "locked": true,
     "points": 25,
     "schema_version": 3,
     "solution": false,
     "task": false
    },
    "tags": []
   },
   "outputs": [],
   "source": []
  },
  {
   "cell_type": "code",
   "execution_count": null,
   "id": "67c903a3-c976-40ce-a2b6-0d652561a0ea",
   "metadata": {
    "deletable": false,
    "editable": false,
    "nbgrader": {
     "cell_type": "code",
     "checksum": "35c3948de703e24450d4e03b0aa46c7d",
     "grade": true,
     "grade_id": "cell-ee62d25ef16d11da",
     "locked": true,
     "points": 25,
     "schema_version": 3,
     "solution": false,
     "task": false
    },
    "tags": []
   },
   "outputs": [],
   "source": []
  },
  {
   "cell_type": "code",
   "execution_count": null,
   "id": "5da93175-f8cb-4d70-9ea1-9cb3d42506f3",
   "metadata": {},
   "outputs": [],
   "source": [
    "!curl -X POST \"http://<IP>:5000/upload\" -F \"file=@${JPY_SESSION_NAME}\" -F \"nb2md=true\"\n"
   ]
  }
 ],
 "metadata": {
  "kernelspec": {
   "display_name": "Python 3 (ipykernel)",
   "language": "python",
   "name": "python3"
  },
  "language_info": {
   "codemirror_mode": {
    "name": "ipython",
    "version": 3
   },
   "file_extension": ".py",
   "mimetype": "text/x-python",
   "name": "python",
   "nbconvert_exporter": "python",
   "pygments_lexer": "ipython3",
   "version": "3.10.14"
  }
 },
 "nbformat": 4,
 "nbformat_minor": 5
}
